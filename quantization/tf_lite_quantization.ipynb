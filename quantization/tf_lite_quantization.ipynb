{
 "cells": [
  {
   "cell_type": "code",
   "execution_count": 1,
   "metadata": {},
   "outputs": [
    {
     "name": "stderr",
     "output_type": "stream",
     "text": [
      "2023-12-15 21:07:28.247897: E tensorflow/compiler/xla/stream_executor/cuda/cuda_dnn.cc:9342] Unable to register cuDNN factory: Attempting to register factory for plugin cuDNN when one has already been registered\n",
      "2023-12-15 21:07:28.247989: E tensorflow/compiler/xla/stream_executor/cuda/cuda_fft.cc:609] Unable to register cuFFT factory: Attempting to register factory for plugin cuFFT when one has already been registered\n",
      "2023-12-15 21:07:28.248085: E tensorflow/compiler/xla/stream_executor/cuda/cuda_blas.cc:1518] Unable to register cuBLAS factory: Attempting to register factory for plugin cuBLAS when one has already been registered\n",
      "2023-12-15 21:07:28.275012: I tensorflow/core/platform/cpu_feature_guard.cc:182] This TensorFlow binary is optimized to use available CPU instructions in performance-critical operations.\n",
      "To enable the following instructions: AVX2 FMA, in other operations, rebuild TensorFlow with the appropriate compiler flags.\n",
      "2023-12-15 21:07:32.823288: W tensorflow/compiler/tf2tensorrt/utils/py_utils.cc:38] TF-TRT Warning: Could not find TensorRT\n"
     ]
    }
   ],
   "source": [
    "import os\n",
    "import shutil\n",
    "import argparse\n",
    "import os\n",
    "import sys\n",
    "\n",
    "\n",
    "\n",
    "from keras_retinanet.preprocessing.csv_generator import CSVGenerator\n",
    "# show images inline\n",
    "%matplotlib inline\n",
    "\n",
    "# automatically reload modules when they have changed\n",
    "%load_ext autoreload\n",
    "%autoreload 2\n",
    "\n",
    "# import keras\n",
    "from tensorflow import keras\n",
    "\n",
    "# import keras_retinanet\n",
    "from keras_retinanet import models\n",
    "from keras_retinanet.utils.image import read_image_bgr, preprocess_image, resize_image\n",
    "from keras_retinanet.utils.visualization import draw_box, draw_caption\n",
    "from keras_retinanet.utils.colors import label_color\n",
    "from keras_retinanet.utils.gpu import setup_gpu\n",
    "\n",
    "# import miscellaneous modules\n",
    "import matplotlib.pyplot as plt\n",
    "import cv2\n",
    "import os\n",
    "import numpy as np\n",
    "import time\n",
    "from keras_retinanet.models import load_model\n",
    "\n",
    "import os\n",
    "import numpy as np\n",
    "import tensorflow as tf\n",
    "from tensorflow.keras.preprocessing.image import ImageDataGenerator\n",
    "# use this to change which GPU to use\n",
    "# gpu = '0'\n",
    "\n",
    "# # set the modified tf session as backend in keras\n",
    "# setup_gpu(gpu)"
   ]
  },
  {
   "attachments": {},
   "cell_type": "markdown",
   "metadata": {},
   "source": [
    "### Post Training Quantization\n"
   ]
  },
  {
   "cell_type": "code",
   "execution_count": 2,
   "metadata": {},
   "outputs": [],
   "source": [
    "from tensorflow.keras.preprocessing.image import ImageDataGenerator\n",
    "from PIL import Image"
   ]
  },
  {
   "cell_type": "code",
   "execution_count": 3,
   "metadata": {},
   "outputs": [
    {
     "name": "stderr",
     "output_type": "stream",
     "text": [
      "2023-12-15 21:10:39.139334: I tensorflow/compiler/xla/stream_executor/cuda/cuda_gpu_executor.cc:894] successful NUMA node read from SysFS had negative value (-1), but there must be at least one NUMA node, so returning NUMA node zero. See more at https://github.com/torvalds/linux/blob/v6.0/Documentation/ABI/testing/sysfs-bus-pci#L344-L355\n",
      "2023-12-15 21:10:39.493428: I tensorflow/compiler/xla/stream_executor/cuda/cuda_gpu_executor.cc:894] successful NUMA node read from SysFS had negative value (-1), but there must be at least one NUMA node, so returning NUMA node zero. See more at https://github.com/torvalds/linux/blob/v6.0/Documentation/ABI/testing/sysfs-bus-pci#L344-L355\n",
      "2023-12-15 21:10:39.494138: I tensorflow/compiler/xla/stream_executor/cuda/cuda_gpu_executor.cc:894] successful NUMA node read from SysFS had negative value (-1), but there must be at least one NUMA node, so returning NUMA node zero. See more at https://github.com/torvalds/linux/blob/v6.0/Documentation/ABI/testing/sysfs-bus-pci#L344-L355\n",
      "2023-12-15 21:10:39.498700: I tensorflow/compiler/xla/stream_executor/cuda/cuda_gpu_executor.cc:894] successful NUMA node read from SysFS had negative value (-1), but there must be at least one NUMA node, so returning NUMA node zero. See more at https://github.com/torvalds/linux/blob/v6.0/Documentation/ABI/testing/sysfs-bus-pci#L344-L355\n",
      "2023-12-15 21:10:39.499843: I tensorflow/compiler/xla/stream_executor/cuda/cuda_gpu_executor.cc:894] successful NUMA node read from SysFS had negative value (-1), but there must be at least one NUMA node, so returning NUMA node zero. See more at https://github.com/torvalds/linux/blob/v6.0/Documentation/ABI/testing/sysfs-bus-pci#L344-L355\n",
      "2023-12-15 21:10:39.500755: I tensorflow/compiler/xla/stream_executor/cuda/cuda_gpu_executor.cc:894] successful NUMA node read from SysFS had negative value (-1), but there must be at least one NUMA node, so returning NUMA node zero. See more at https://github.com/torvalds/linux/blob/v6.0/Documentation/ABI/testing/sysfs-bus-pci#L344-L355\n",
      "2023-12-15 21:10:42.007928: I tensorflow/compiler/xla/stream_executor/cuda/cuda_gpu_executor.cc:894] successful NUMA node read from SysFS had negative value (-1), but there must be at least one NUMA node, so returning NUMA node zero. See more at https://github.com/torvalds/linux/blob/v6.0/Documentation/ABI/testing/sysfs-bus-pci#L344-L355\n",
      "2023-12-15 21:10:42.008601: I tensorflow/compiler/xla/stream_executor/cuda/cuda_gpu_executor.cc:894] successful NUMA node read from SysFS had negative value (-1), but there must be at least one NUMA node, so returning NUMA node zero. See more at https://github.com/torvalds/linux/blob/v6.0/Documentation/ABI/testing/sysfs-bus-pci#L344-L355\n",
      "2023-12-15 21:10:42.009180: I tensorflow/compiler/xla/stream_executor/cuda/cuda_gpu_executor.cc:894] successful NUMA node read from SysFS had negative value (-1), but there must be at least one NUMA node, so returning NUMA node zero. See more at https://github.com/torvalds/linux/blob/v6.0/Documentation/ABI/testing/sysfs-bus-pci#L344-L355\n",
      "2023-12-15 21:10:42.009659: I tensorflow/core/common_runtime/gpu/gpu_device.cc:1886] Created device /job:localhost/replica:0/task:0/device:GPU:0 with 2410 MB memory:  -> device: 0, name: NVIDIA GeForce GTX 1650 Ti, pci bus id: 0000:01:00.0, compute capability: 7.5\n",
      "2023-12-15 21:10:52.095869: W tensorflow/tsl/framework/cpu_allocator_impl.cc:83] Allocation of 18874368 exceeds 10% of free system memory.\n",
      "2023-12-15 21:10:52.518004: W tensorflow/tsl/framework/cpu_allocator_impl.cc:83] Allocation of 18874368 exceeds 10% of free system memory.\n",
      "2023-12-15 21:10:53.580731: W tensorflow/tsl/framework/cpu_allocator_impl.cc:83] Allocation of 18874368 exceeds 10% of free system memory.\n",
      "2023-12-15 21:10:54.598384: W tensorflow/tsl/framework/cpu_allocator_impl.cc:83] Allocation of 18874368 exceeds 10% of free system memory.\n"
     ]
    }
   ],
   "source": [
    "# model_keras = load_model(\n",
    "#     'path_to_h5_file', backbone_name='resnet50')\n",
    "model_keras = load_model(\n",
    "    '/home/developer/Documents/CMU/Capstone_Codes/cervical-cancer-project/PyAVE_cmu_fall2023/cmu_fall2023/assets/resnet50_csv_26.h5', backbone_name='resnet50')\n",
    "#dynamic quantization not supported so we need to fix the input size\n",
    "new_input_shape = (1067, 800, 3)\n",
    "model_keras.inputs[0].set_shape((None, *new_input_shape))\n",
    "model_keras = models.convert_model(model_keras)\n",
    "# Rebuild the model to apply the changes\n",
    "model_keras = keras.models.Model(\n",
    "    inputs=model_keras.inputs, outputs=model_keras.outputs)"
   ]
  },
  {
   "cell_type": "code",
   "execution_count": null,
   "metadata": {},
   "outputs": [],
   "source": [
    "## Check model summary to understand layers\n",
    "model_keras.summary()"
   ]
  },
  {
   "cell_type": "code",
   "execution_count": 5,
   "metadata": {},
   "outputs": [
    {
     "name": "stdout",
     "output_type": "stream",
     "text": [
      "Model summary written to 'model_summary.txt'\n"
     ]
    }
   ],
   "source": [
    "import io\n",
    "summary = io.StringIO()\n",
    "model_keras.summary(print_fn=lambda x: summary.write(x + '\\n'))\n",
    "model_summary = summary.getvalue()\n",
    "summary.close()\n",
    "with open('model_summary.txt', 'w') as file:\n",
    "    file.write(model_summary)\n",
    "\n",
    "print(\"Model summary written to 'model_summary.txt'\")"
   ]
  },
  {
   "cell_type": "code",
   "execution_count": 11,
   "metadata": {},
   "outputs": [],
   "source": [
    "input_layer = model_keras.get_layer('input_1').output\n",
    "\n",
    "## Get last feature layer\n",
    "feature_layer = model_keras.get_layer('C5_reduced').output \n",
    "\n",
    "# Getting the regression and classification submodels\n",
    "regression_submodel = model_keras.get_layer('regression_submodel')\n",
    "classification_submodel = model_keras.get_layer('classification_submodel')\n",
    "\n",
    "# Applying P3 layer to both submodels\n",
    "regression_output = regression_submodel(feature_layer)\n",
    "classification_output = classification_submodel(feature_layer)\n",
    "\n",
    "# Now create a new model\n",
    "new_model = Model(inputs=input_layer, outputs=[regression_output, classification_output])\n",
    "\n",
    "# Use 'new_model' for further operations"
   ]
  },
  {
   "cell_type": "code",
   "execution_count": null,
   "metadata": {},
   "outputs": [],
   "source": [
    "new_model.summary()"
   ]
  },
  {
   "cell_type": "code",
   "execution_count": null,
   "metadata": {},
   "outputs": [],
   "source": [
    "image = Image.open(\n",
    "    '../path_to_test_image.jpg').convert('RGB')\n",
    "image = image.rotate(90)\n",
    "\n",
    "image = np.asarray(image)\n",
    "image = image[:, :, ::-1].copy()\n",
    "\n",
    "image = preprocess_image(image)\n",
    "image, scale = resize_image(image)\n",
    "print(image.shape)\n",
    "# Run the inference\n",
    "start = time.time()\n",
    "scores = new_model.predict_on_batch(np.expand_dims(image, axis=0))\n",
    "inference_time = time.time() - start\n",
    "print(inference_time)\n",
    "# predicted_label = labels[0][np.argmax(scores[0])]\n",
    "# confidence = scores[0][np.argmax(scores[0])]"
   ]
  },
  {
   "cell_type": "code",
   "execution_count": null,
   "metadata": {},
   "outputs": [],
   "source": [
    "def create_generator():\n",
    "    \"\"\" Create generators for evaluation.\n",
    "    \"\"\"\n",
    "    common_args = {\n",
    "\n",
    "        'preprocess_image': preprocess_image,\n",
    "\n",
    "    }\n",
    "\n",
    "    validation_generator = CSVGenerator(\n",
    "        'calib_images.csv',\n",
    "        'class.csv',\n",
    "        shuffle_groups=False,\n",
    "        **common_args\n",
    "    )\n",
    "\n",
    "    return validation_generator"
   ]
  },
  {
   "cell_type": "code",
   "execution_count": null,
   "metadata": {},
   "outputs": [],
   "source": [
    "import pathlib\n",
    "\n",
    "tflite_models_dir = pathlib.Path(\"/tmp/mnist_tflite_models/\")\n",
    "tflite_models_dir.mkdir(exist_ok=True, parents=True)"
   ]
  },
  {
   "cell_type": "code",
   "execution_count": null,
   "metadata": {},
   "outputs": [],
   "source": [
    "gen = create_generator()\n",
    "# create an image generator with a batch size of 1\n",
    "test_datagen = ImageDataGenerator(preprocessing_function=preprocess_image)\n",
    "test_generator = gen\n",
    "\n",
    "\n",
    "def represent_data_gen():\n",
    "    \"\"\" it yields an image one by one \"\"\"\n",
    "    for ind in range(len(gen.image_data.keys())):\n",
    "        # it returns (image and label) tuple\n",
    "        image = test_generator.load_image(ind)\n",
    "        image = image[:, :, ::-1].copy()\n",
    "        image = preprocess_image(image)\n",
    "        image, scale = resize_image(image)\n",
    "\n",
    "        print(image.shape)\n",
    "        yield [np.expand_dims(image, axis=0)]  # return only image"
   ]
  },
  {
   "cell_type": "code",
   "execution_count": null,
   "metadata": {},
   "outputs": [],
   "source": [
    "converter = tf.lite.TFLiteConverter.from_keras_model(new_model)\n",
    "\n",
    "converter.optimizations = [tf.lite.Optimize.DEFAULT]\n",
    "converter.representative_dataset = represent_data_gen\n",
    "# Ensure that if any ops can't be quantized, the converter throws an error\n",
    "converter.target_spec.supported_ops = [tf.lite.OpsSet.TFLITE_BUILTINS_INT8]\n",
    "# Set the input and output tensors to uint8 (APIs added in r2.3)\n",
    "converter.inference_input_type = tf.uint8\n",
    "converter.inference_output_type = tf.uint8\n",
    "\n",
    "tflite_model_quant = converter.convert()"
   ]
  },
  {
   "cell_type": "code",
   "execution_count": null,
   "metadata": {},
   "outputs": [],
   "source": []
  },
  {
   "cell_type": "code",
   "execution_count": null,
   "metadata": {},
   "outputs": [],
   "source": [
    "\"Store model\"\n",
    "tflite_model_quant_file = tflite_models_dir / \\\n",
    "    \"path_to_store_quantized_model\"\n",
    "tflite_model_quant_file.write_bytes(tflite_model_quant)"
   ]
  }
 ],
 "metadata": {
  "kernelspec": {
   "display_name": "Python 3",
   "language": "python",
   "name": "python3"
  },
  "language_info": {
   "codemirror_mode": {
    "name": "ipython",
    "version": 3
   },
   "file_extension": ".py",
   "mimetype": "text/x-python",
   "name": "python",
   "nbconvert_exporter": "python",
   "pygments_lexer": "ipython3",
   "version": "3.10.12"
  },
  "orig_nbformat": 4
 },
 "nbformat": 4,
 "nbformat_minor": 2
}
